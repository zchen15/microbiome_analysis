{
 "cells": [
  {
   "cell_type": "code",
   "execution_count": 3,
   "id": "de1f47c2-1c12-4941-b43f-4e7b7a96f5c0",
   "metadata": {},
   "outputs": [],
   "source": [
    "import plasmid\n",
    "import importlib\n",
    "import glob\n",
    "import sys"
   ]
  },
  {
   "cell_type": "code",
   "execution_count": 5,
   "id": "9cc90237-c28e-4605-9f88-7387327215f1",
   "metadata": {},
   "outputs": [],
   "source": [
    "x = plasmid.fileIO.read_fastx('merged/054b5d2a-9215-4ebf-9b85-8721d91a6309.fq.gz')"
   ]
  },
  {
   "cell_type": "code",
   "execution_count": 7,
   "id": "629e0685-5883-4a50-b574-d0ea708ceaef",
   "metadata": {},
   "outputs": [
    {
     "data": {
      "text/html": [
       "<div>\n",
       "<style scoped>\n",
       "    .dataframe tbody tr th:only-of-type {\n",
       "        vertical-align: middle;\n",
       "    }\n",
       "\n",
       "    .dataframe tbody tr th {\n",
       "        vertical-align: top;\n",
       "    }\n",
       "\n",
       "    .dataframe thead th {\n",
       "        text-align: right;\n",
       "    }\n",
       "</style>\n",
       "<table border=\"1\" class=\"dataframe\">\n",
       "  <thead>\n",
       "    <tr style=\"text-align: right;\">\n",
       "      <th></th>\n",
       "      <th>name</th>\n",
       "      <th>sequence</th>\n",
       "    </tr>\n",
       "  </thead>\n",
       "  <tbody>\n",
       "    <tr>\n",
       "      <th>0</th>\n",
       "      <td>M03990:241:000000000-CYLNG:1:1101:17901:2039</td>\n",
       "      <td>GACGAACCGTCCAAACGTTATTCGGAATTATTGGGCTTAAAGGGTG...</td>\n",
       "    </tr>\n",
       "    <tr>\n",
       "      <th>1</th>\n",
       "      <td>M03990:241:000000000-CYLNG:1:1101:15414:2077</td>\n",
       "      <td>TACGTAGGGTGCAAGCGTTAATCGGAATTACTGGGCGTAAAGCGTG...</td>\n",
       "    </tr>\n",
       "    <tr>\n",
       "      <th>2</th>\n",
       "      <td>M03990:241:000000000-CYLNG:1:1101:11635:2095</td>\n",
       "      <td>TACGTAGGGTGCAAGCGTTGTCCGGAATTATTGGGCGTAAAGAGCT...</td>\n",
       "    </tr>\n",
       "    <tr>\n",
       "      <th>3</th>\n",
       "      <td>M03990:241:000000000-CYLNG:1:1101:9323:2102</td>\n",
       "      <td>TACGGGGGGGGCAAGCGTTGTTCGGAATTACTGGGCGTAAAGGGCT...</td>\n",
       "    </tr>\n",
       "    <tr>\n",
       "      <th>4</th>\n",
       "      <td>M03990:241:000000000-CYLNG:1:1101:12109:2131</td>\n",
       "      <td>TACGTAGGGGGCAAGCGTTGTCCGGATTTATTGGGCGTAAAGAGCG...</td>\n",
       "    </tr>\n",
       "    <tr>\n",
       "      <th>...</th>\n",
       "      <td>...</td>\n",
       "      <td>...</td>\n",
       "    </tr>\n",
       "    <tr>\n",
       "      <th>82074</th>\n",
       "      <td>M03990:240:000000000-CY8DT:1:2119:23400:24891</td>\n",
       "      <td>AACGTAGGAGGCAAGCGTTATCCGGATTCACTGGGCGTAAAGCGCG...</td>\n",
       "    </tr>\n",
       "    <tr>\n",
       "      <th>82075</th>\n",
       "      <td>M03990:240:000000000-CY8DT:1:2119:11126:24934</td>\n",
       "      <td>TACGTAGGTGGCAAGCGTTGTCCGGATTTACTGGGCGTAAAGAGCG...</td>\n",
       "    </tr>\n",
       "    <tr>\n",
       "      <th>82076</th>\n",
       "      <td>M03990:240:000000000-CY8DT:1:2119:14099:24960</td>\n",
       "      <td>TACGTAGGGTGCGAGCGTTAATCGGAATTACTGGGCGTAAAGCGTG...</td>\n",
       "    </tr>\n",
       "    <tr>\n",
       "      <th>82077</th>\n",
       "      <td>M03990:240:000000000-CY8DT:1:2119:18335:25149</td>\n",
       "      <td>TACGTAGGGCGCAAGCGTTATCCGGAATTATTGGGCGTAAAGAGCT...</td>\n",
       "    </tr>\n",
       "    <tr>\n",
       "      <th>82078</th>\n",
       "      <td>M03990:241:000000000-CYLNG:1:2106:29087:11024</td>\n",
       "      <td>TACGAAGGGGGCTAGCGTTGTTCGGAATTACTGGGCGTAAAGGGCG...</td>\n",
       "    </tr>\n",
       "  </tbody>\n",
       "</table>\n",
       "<p>82079 rows × 2 columns</p>\n",
       "</div>"
      ],
      "text/plain": [
       "                                                name  \\\n",
       "0       M03990:241:000000000-CYLNG:1:1101:17901:2039   \n",
       "1       M03990:241:000000000-CYLNG:1:1101:15414:2077   \n",
       "2       M03990:241:000000000-CYLNG:1:1101:11635:2095   \n",
       "3        M03990:241:000000000-CYLNG:1:1101:9323:2102   \n",
       "4       M03990:241:000000000-CYLNG:1:1101:12109:2131   \n",
       "...                                              ...   \n",
       "82074  M03990:240:000000000-CY8DT:1:2119:23400:24891   \n",
       "82075  M03990:240:000000000-CY8DT:1:2119:11126:24934   \n",
       "82076  M03990:240:000000000-CY8DT:1:2119:14099:24960   \n",
       "82077  M03990:240:000000000-CY8DT:1:2119:18335:25149   \n",
       "82078  M03990:241:000000000-CYLNG:1:2106:29087:11024   \n",
       "\n",
       "                                                sequence  \n",
       "0      GACGAACCGTCCAAACGTTATTCGGAATTATTGGGCTTAAAGGGTG...  \n",
       "1      TACGTAGGGTGCAAGCGTTAATCGGAATTACTGGGCGTAAAGCGTG...  \n",
       "2      TACGTAGGGTGCAAGCGTTGTCCGGAATTATTGGGCGTAAAGAGCT...  \n",
       "3      TACGGGGGGGGCAAGCGTTGTTCGGAATTACTGGGCGTAAAGGGCT...  \n",
       "4      TACGTAGGGGGCAAGCGTTGTCCGGATTTATTGGGCGTAAAGAGCG...  \n",
       "...                                                  ...  \n",
       "82074  AACGTAGGAGGCAAGCGTTATCCGGATTCACTGGGCGTAAAGCGCG...  \n",
       "82075  TACGTAGGTGGCAAGCGTTGTCCGGATTTACTGGGCGTAAAGAGCG...  \n",
       "82076  TACGTAGGGTGCGAGCGTTAATCGGAATTACTGGGCGTAAAGCGTG...  \n",
       "82077  TACGTAGGGCGCAAGCGTTATCCGGAATTATTGGGCGTAAAGAGCT...  \n",
       "82078  TACGAAGGGGGCTAGCGTTGTTCGGAATTACTGGGCGTAAAGGGCG...  \n",
       "\n",
       "[82079 rows x 2 columns]"
      ]
     },
     "execution_count": 7,
     "metadata": {},
     "output_type": "execute_result"
    }
   ],
   "source": [
    "x[['name','sequence']]"
   ]
  },
  {
   "cell_type": "code",
   "execution_count": null,
   "id": "99cbedb6-9cd5-476f-a41d-66a6643ca15c",
   "metadata": {},
   "outputs": [],
   "source": []
  }
 ],
 "metadata": {
  "kernelspec": {
   "display_name": "Python 3 (ipykernel)",
   "language": "python",
   "name": "python3"
  },
  "language_info": {
   "codemirror_mode": {
    "name": "ipython",
    "version": 3
   },
   "file_extension": ".py",
   "mimetype": "text/x-python",
   "name": "python",
   "nbconvert_exporter": "python",
   "pygments_lexer": "ipython3",
   "version": "3.10.7"
  }
 },
 "nbformat": 4,
 "nbformat_minor": 5
}
